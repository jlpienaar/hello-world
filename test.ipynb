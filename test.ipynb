{
 "cells": [
  {
   "cell_type": "markdown",
   "metadata": {},
   "source": [
    "Test Notebook\n",
    "====================\n",
    "\n",
    "Just making sure I can do this.\n",
    "\n",
    "A second level header\n",
    "----------------------\n",
    "\n",
    "## Header 2\n",
    "### Header 3\n",
    "\n",
    "> A blockquote\n",
    "> \n",
    "> Pretty cool.\n",
    "\n",
    "Some *emphasis* and some **strong emphasis**.\n",
    "\n",
    "* Candy\n",
    "* Gum\n",
    "\n",
    "  (Only the good kind of gum).\n",
    "    \n",
    "* Booze\n",
    "\n",
    "Now for some data plotting with python:\n",
    "------------------------------------------\n"
   ]
  },
  {
   "cell_type": "code",
   "execution_count": 2,
   "metadata": {},
   "outputs": [
    {
     "data": {
      "image/png": "[encoded data removed]",
      "text/plain": [
       "<Figure size 432x288 with 1 Axes>"
      ]
     },
     "metadata": {
      "needs_background": "light"
     },
     "output_type": "display_data"
    }
   ],
   "source": [
    "import matplotlib.pyplot as plt\n",
    "\n",
    "INTEREST_RATE = 0.05\n",
    "STARTING_CAPITAL = 10\n",
    "MAX_YEARS = 40\n",
    "\n",
    "x = [i for i in range(MAX_YEARS)]\n",
    "y = [STARTING_CAPITAL]\n",
    "\n",
    "for i in range(1,MAX_YEARS):\n",
    "    y_new = y[i-1]*(1+INTEREST_RATE)\n",
    "    y.append(y_new)\n",
    "\n",
    "plt.plot(x, y, 'b^')\n",
    "plt.show()"
   ]
  },
  {
   "cell_type": "code",
   "execution_count": 6,
   "metadata": {},
   "outputs": [
    {
     "data": {
      "image/png": "[encoded data removed]",
      "text/plain": [
       "<Figure size 432x288 with 1 Axes>"
      ]
     },
     "metadata": {
      "needs_background": "light"
     },
     "output_type": "display_data"
    }
   ],
   "source": [
    "import pandas as pd\n",
    "import matplotlib.pyplot as plt\n",
    "\n",
    "df = pd.read_csv('mini_data.csv')\n",
    "\n",
    "df.head()\n",
    "\n",
    "plt.plot(df['value'],'b^')\n",
    "plt.show()"
   ]
  },
  {
   "cell_type": "code",
   "execution_count": null,
   "metadata": {},
   "outputs": [],
   "source": []
  }
 ],
 "metadata": {
  "kernelspec": {
   "display_name": "Python 3",
   "language": "python",
   "name": "python3"
  },
  "language_info": {
   "codemirror_mode": {
    "name": "ipython",
    "version": 3
   },
   "file_extension": ".py",
   "mimetype": "text/x-python",
   "name": "python",
   "nbconvert_exporter": "python",
   "pygments_lexer": "ipython3",
   "version": "3.7.6"
  }
 },
 "nbformat": 4,
 "nbformat_minor": 2
}
